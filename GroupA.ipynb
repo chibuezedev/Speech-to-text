{
  "nbformat": 4,
  "nbformat_minor": 0,
  "metadata": {
    "colab": {
      "provenance": []
    },
    "kernelspec": {
      "name": "python3",
      "display_name": "Python 3"
    },
    "language_info": {
      "name": "python"
    }
  },
  "cells": [
    {
      "cell_type": "code",
      "source": [
        "# Installations\n",
        "!pip install SpeechRecognition pydub\n",
        "\n",
        "# Import Libraries\n",
        "import os\n",
        "from pydub import AudioSegment\n",
        "from pydub.silence import split_on_silence\n",
        "import speech_recognition as sr"
      ],
      "metadata": {
        "id": "GKZtnqCzaV7Y"
      },
      "execution_count": null,
      "outputs": []
    },
    {
      "cell_type": "markdown",
      "source": [
        "NOTE:\n",
        "\n",
        "We are using SpeechRecognition, a python library and a Google\n",
        "Speech Recognition API for transcriing the audio.\n",
        "We use Specifically the Recognizer() function to listen to a given audio file given from our source.\n",
        "\n",
        "\n",
        "Secondly, we are using Pydub to Manipulate the audio file with an simple and easy high level interface. It is also a python Library and open source.\n",
        "\n",
        "The two libraries together will give us a convinent ability to work on this project for efficient speech-to-text recognition"
      ],
      "metadata": {
        "id": "nc01xYFtXO_W"
      }
    },
    {
      "cell_type": "code",
      "source": [
        "# Define function to transcribe audio using Google Speech Recognition API\n",
        "def transcribe_audio(path):\n",
        "    \"\"\"Recognize speech in the audio file using Google Speech Recognition.\"\"\"\n",
        "    # Create a speech recognition object\n",
        "    r = sr.Recognizer()\n",
        "\n",
        "    # Use the audio file as the audio source\n",
        "    with sr.AudioFile(path) as source:\n",
        "        audio_listened = r.record(source)\n",
        "        # Try converting it to text\n",
        "        text = r.recognize_google(audio_listened)\n",
        "    return text\n",
        "\n",
        "# Function to split audio into chunks based on silence and transcribe them\n",
        "def get_large_audio_transcription_on_silence(path):\n",
        "    \"\"\"Splitting the large audio file into chunks and apply speech recognition on each chunk.\"\"\"\n",
        "    # Open the audio file using pydub\n",
        "    sound = AudioSegment.from_file(path)\n",
        "\n",
        "    # Split audio sound where silence is 500 milliseconds or more and get chunks\n",
        "    chunks = split_on_silence(sound,\n",
        "        # Experiment with this value for your target audio file\n",
        "        min_silence_len=500,\n",
        "        # Adjust this per requirement\n",
        "        silence_thresh=sound.dBFS - 14,\n",
        "        # Keep the silence for 1 second, adjustable as well\n",
        "        keep_silence=500,\n",
        "    )\n",
        "\n",
        "    # Create a directory(folder) to store the audio chunks\n",
        "    folder_name = \"audio-chunks\"\n",
        "    if not os.path.isdir(folder_name):\n",
        "        os.mkdir(folder_name)\n",
        "\n",
        "    whole_text = \"\"\n",
        "    # Process each chunk\n",
        "    for i, audio_chunk in enumerate(chunks, start=1):\n",
        "        # Export audio chunk and save it in the `folder_name` directory\n",
        "        chunk_filename = os.path.join(folder_name, f\"chunk{i}.wav\")\n",
        "        audio_chunk.export(chunk_filename, format=\"wav\")\n",
        "\n",
        "        # Recognize the chunk\n",
        "        try:\n",
        "            text = transcribe_audio(chunk_filename)\n",
        "        except sr.UnknownValueError as e:\n",
        "            print(\"Error:\", str(e))\n",
        "        else:\n",
        "            text = f\"{text.capitalize()}. \"\n",
        "            print(chunk_filename, \":\", text)\n",
        "            whole_text += text\n",
        "\n",
        "    # Return the text for all chunks detected\n",
        "    return whole_text"
      ],
      "metadata": {
        "id": "z53QVpxNVWW-"
      },
      "execution_count": null,
      "outputs": []
    },
    {
      "cell_type": "markdown",
      "source": [],
      "metadata": {
        "id": "wkQ3y8v4Zyaq"
      }
    },
    {
      "cell_type": "code",
      "source": [
        "# usage\n",
        "path = \"./audio.wav\"\n",
        "print(\"\\nFull text:\", get_large_audio_transcription_on_silence(path))\n"
      ],
      "metadata": {
        "colab": {
          "base_uri": "https://localhost:8080/"
        },
        "id": "mSAtAdTdTcox",
        "outputId": "ea7857e6-9aba-410e-c84c-e2cb78a76615"
      },
      "execution_count": null,
      "outputs": [
        {
          "output_type": "stream",
          "name": "stdout",
          "text": [
            "audio-chunks/chunk1.wav : Here's a bird which he had fixed in a bowery or a country seat. \n",
            "audio-chunks/chunk2.wav : Add a short distance from the city. \n",
            "audio-chunks/chunk3.wav : Just that what is now called dutch street. \n",
            "audio-chunks/chunk4.wav : Soon abounded with proofs of his ingenuity. \n",
            "audio-chunks/chunk5.wav : Patent smoke. \n",
            "audio-chunks/chunk6.wav : It required a horse to work some. \n",
            "audio-chunks/chunk7.wav : Dutch ovens that roasted meat without fire. \n",
            "audio-chunks/chunk8.wav : Carts that went before the horses. \n",
            "audio-chunks/chunk9.wav : Weather cox that turned against the wind and other wrong-headed contrivances. \n",
            "audio-chunks/chunk10.wav : Set astonished and confounded all beholders. \n",
            "\n",
            "Full text: Here's a bird which he had fixed in a bowery or a country seat. Add a short distance from the city. Just that what is now called dutch street. Soon abounded with proofs of his ingenuity. Patent smoke. It required a horse to work some. Dutch ovens that roasted meat without fire. Carts that went before the horses. Weather cox that turned against the wind and other wrong-headed contrivances. Set astonished and confounded all beholders. \n"
          ]
        }
      ]
    },
    {
      "cell_type": "markdown",
      "source": [],
      "metadata": {
        "id": "hETOIdQ6c1W9"
      }
    }
  ]
}